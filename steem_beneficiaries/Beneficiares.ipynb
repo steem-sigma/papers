{
 "cells": [
  {
   "cell_type": "code",
   "execution_count": 13,
   "metadata": {},
   "outputs": [],
   "source": [
    "import pymssql\n",
    "from datetime import datetime, timedelta\n",
    "from tqdm import tqdm_notebook\n",
    "import json\n",
    "\n",
    "import math\n",
    "import pandas as pd\n",
    "import numpy as np\n",
    "import seaborn as sns\n",
    "import matplotlib.pyplot as plt\n",
    "import matplotlib.ticker as ticker\n",
    "\n",
    "pd.set_option('display.float_format', lambda x: '%.3f' % x)"
   ]
  },
  {
   "cell_type": "code",
   "execution_count": 3,
   "metadata": {},
   "outputs": [],
   "source": [
    "columns = ['id', 'author', 'permlink', 'title', 'body','body_language']\n",
    "\n",
    "server, user, password, db = ('vip.steemsql.com', 'db_username', 'db_passwd', 'DBSteem')\n",
    "conn = pymssql.connect(server, user, password, db)\n",
    "cursor = conn.cursor()"
   ]
  },
  {
   "cell_type": "markdown",
   "metadata": {},
   "source": [
    "# Get data "
   ]
  },
  {
   "cell_type": "markdown",
   "metadata": {},
   "source": [
    "Fetch data for last year from SteemSQL"
   ]
  },
  {
   "cell_type": "code",
   "execution_count": 4,
   "metadata": {},
   "outputs": [],
   "source": [
    "def get_posts_in_interval(start, end):\n",
    "    query = '''\n",
    "    SELECT id, author, permlink, body_language, beneficiaries, total_payout_value, net_votes, children, \n",
    "    json_metadata, created, curator_payout_value\n",
    "    FROM Comments\n",
    "    WHERE parent_author = ''\n",
    "    AND created BETWEEN '{}' AND '{}'\n",
    "    '''.format(start, end)\n",
    "    cursor.execute(query)\n",
    "    data = cursor.fetchall()\n",
    "    posts = pd.DataFrame(data, columns=['id', 'author', 'permlink', 'body_language', 'beneficiaries', \n",
    "                                        'total_payout_value', 'net_votes', 'children', 'json_metadata', \n",
    "                                        'created', 'curator_payout_value'])\n",
    "    return posts"
   ]
  },
  {
   "cell_type": "code",
   "execution_count": 5,
   "metadata": {},
   "outputs": [],
   "source": [
    "intervals = [\n",
    "    ['2018-10-01 00:00:00', '2018-10-31 23:59:59'],\n",
    "    ['2018-09-01 00:00:00', '2018-09-30 23:59:59'],\n",
    "    ['2018-08-01 00:00:00', '2018-08-31 23:59:59'],\n",
    "    ['2018-07-01 00:00:00', '2018-07-31 23:59:59'],\n",
    "    ['2018-06-01 00:00:00', '2018-06-30 23:59:59'],\n",
    "    ['2018-05-01 00:00:00', '2018-05-31 23:59:59'],\n",
    "    ['2018-04-01 00:00:00', '2018-04-30 23:59:59'],\n",
    "    ['2018-03-01 00:00:00', '2018-03-31 23:59:59'],\n",
    "    ['2018-02-01 00:00:00', '2018-02-28 23:59:59'],\n",
    "    ['2018-01-01 00:00:00', '2018-01-31 23:59:59'],\n",
    "]"
   ]
  },
  {
   "cell_type": "code",
   "execution_count": 6,
   "metadata": {},
   "outputs": [
    {
     "data": {
      "application/vnd.jupyter.widget-view+json": {
       "model_id": "a26ed62e98bc435f8235c13e2a5ac7a2",
       "version_major": 2,
       "version_minor": 0
      },
      "text/plain": [
       "HBox(children=(IntProgress(value=0, max=10), HTML(value='')))"
      ]
     },
     "metadata": {},
     "output_type": "display_data"
    },
    {
     "name": "stdout",
     "output_type": "stream",
     "text": [
      "\n"
     ]
    }
   ],
   "source": [
    "posts = []\n",
    "for i in tqdm_notebook(intervals):\n",
    "    posts.append(get_posts_in_interval(i[0], i[1]))"
   ]
  },
  {
   "cell_type": "code",
   "execution_count": 7,
   "metadata": {},
   "outputs": [],
   "source": [
    "posts_df = pd.concat(posts)"
   ]
  },
  {
   "cell_type": "code",
   "execution_count": 8,
   "metadata": {},
   "outputs": [],
   "source": [
    "posts_df.to_csv('2018_beneficiares_stats.csv', index=False)"
   ]
  },
  {
   "cell_type": "code",
   "execution_count": 2,
   "metadata": {},
   "outputs": [],
   "source": [
    "# posts_df = pd.read_csv('2018_beneficiares_stats.csv')"
   ]
  },
  {
   "cell_type": "code",
   "execution_count": 125,
   "metadata": {},
   "outputs": [
    {
     "data": {
      "text/plain": [
       "(9671014, 14)"
      ]
     },
     "execution_count": 125,
     "metadata": {},
     "output_type": "execute_result"
    }
   ],
   "source": [
    "posts_df.shape"
   ]
  },
  {
   "cell_type": "markdown",
   "metadata": {},
   "source": [
    "# Prepare data"
   ]
  },
  {
   "cell_type": "markdown",
   "metadata": {},
   "source": [
    "## Total posts"
   ]
  },
  {
   "cell_type": "code",
   "execution_count": 3,
   "metadata": {},
   "outputs": [],
   "source": [
    "posts_df['has_beneficiares'] = posts_df.beneficiaries.apply(lambda b: False if b == '[]' else True)"
   ]
  },
  {
   "cell_type": "code",
   "execution_count": 49,
   "metadata": {},
   "outputs": [],
   "source": [
    "month_map = {'01': 'Jan', '02': 'Feb', '03': 'Mar', '04': 'Apr', '05': 'May', '06': 'Jun', '07': 'Jul', '08': 'Aug',\n",
    "            '09': 'Sep', '10': 'Oct'}\n",
    "posts_df['created_str'] = posts_df.created.astype(str)\n",
    "posts_df['month'] = posts_df.created_str.apply(lambda d: month_map[d[5:7]])"
   ]
  },
  {
   "cell_type": "code",
   "execution_count": 62,
   "metadata": {},
   "outputs": [
    {
     "data": {
      "text/html": [
       "<div>\n",
       "<style scoped>\n",
       "    .dataframe tbody tr th:only-of-type {\n",
       "        vertical-align: middle;\n",
       "    }\n",
       "\n",
       "    .dataframe tbody tr th {\n",
       "        vertical-align: top;\n",
       "    }\n",
       "\n",
       "    .dataframe thead th {\n",
       "        text-align: right;\n",
       "    }\n",
       "</style>\n",
       "<table border=\"1\" class=\"dataframe\">\n",
       "  <thead>\n",
       "    <tr style=\"text-align: right;\">\n",
       "      <th></th>\n",
       "      <th>id</th>\n",
       "      <th>author</th>\n",
       "      <th>permlink</th>\n",
       "      <th>body_language</th>\n",
       "      <th>beneficiaries</th>\n",
       "      <th>total_payout_value</th>\n",
       "      <th>net_votes</th>\n",
       "      <th>children</th>\n",
       "      <th>json_metadata</th>\n",
       "      <th>created</th>\n",
       "      <th>curator_payout_value</th>\n",
       "      <th>has_beneficiares</th>\n",
       "      <th>created_str</th>\n",
       "      <th>month</th>\n",
       "    </tr>\n",
       "  </thead>\n",
       "  <tbody>\n",
       "    <tr>\n",
       "      <th>0</th>\n",
       "      <td>61753305</td>\n",
       "      <td>yurim</td>\n",
       "      <td>my-very-own-personal-photography-23</td>\n",
       "      <td>[{\"language\":\"ko\",\"isReliable\":true,\"confidenc...</td>\n",
       "      <td>[]</td>\n",
       "      <td>0.430</td>\n",
       "      <td>1</td>\n",
       "      <td>0</td>\n",
       "      <td>{\"tags\":[\"kr\",\"kr-daily\",\"photography\",\"travel...</td>\n",
       "      <td>2018-10-19 21:26:42</td>\n",
       "      <td>0.140</td>\n",
       "      <td>False</td>\n",
       "      <td>2018-10-19 21:26:42</td>\n",
       "      <td>Oct</td>\n",
       "    </tr>\n",
       "    <tr>\n",
       "      <th>1</th>\n",
       "      <td>63479578</td>\n",
       "      <td>gooddeal</td>\n",
       "      <td>20181001t000004801z</td>\n",
       "      <td>[{\"language\":\"ko\",\"isReliable\":true,\"confidenc...</td>\n",
       "      <td>[]</td>\n",
       "      <td>0.230</td>\n",
       "      <td>3</td>\n",
       "      <td>1</td>\n",
       "      <td>{\"tags\":[\"kr\",\"coinkorea\",\"kr-event\",\"jjangjja...</td>\n",
       "      <td>2018-10-01 00:00:06</td>\n",
       "      <td>0.070</td>\n",
       "      <td>False</td>\n",
       "      <td>2018-10-01 00:00:06</td>\n",
       "      <td>Oct</td>\n",
       "    </tr>\n",
       "    <tr>\n",
       "      <th>2</th>\n",
       "      <td>63479576</td>\n",
       "      <td>mr-freeman</td>\n",
       "      <td>utilize-customized-systems-1538352000776</td>\n",
       "      <td>[{\"language\":\"en\",\"isReliable\":false,\"confiden...</td>\n",
       "      <td>[]</td>\n",
       "      <td>0.050</td>\n",
       "      <td>4</td>\n",
       "      <td>0</td>\n",
       "      <td>{\"tags\":[\"meme\",\"funny\",\"memes\",\"freeman\"],\"im...</td>\n",
       "      <td>2018-10-01 00:00:00</td>\n",
       "      <td>0.010</td>\n",
       "      <td>False</td>\n",
       "      <td>2018-10-01 00:00:00</td>\n",
       "      <td>Oct</td>\n",
       "    </tr>\n",
       "    <tr>\n",
       "      <th>3</th>\n",
       "      <td>63479573</td>\n",
       "      <td>steemeum</td>\n",
       "      <td>steemeum-day-31</td>\n",
       "      <td>[{\"language\":\"en\",\"isReliable\":true,\"confidenc...</td>\n",
       "      <td>[]</td>\n",
       "      <td>0.180</td>\n",
       "      <td>22</td>\n",
       "      <td>2</td>\n",
       "      <td>{\"tags\":[\"steemeum\"]}</td>\n",
       "      <td>2018-10-01 00:00:00</td>\n",
       "      <td>0.050</td>\n",
       "      <td>False</td>\n",
       "      <td>2018-10-01 00:00:00</td>\n",
       "      <td>Oct</td>\n",
       "    </tr>\n",
       "    <tr>\n",
       "      <th>4</th>\n",
       "      <td>63434503</td>\n",
       "      <td>kingxeno</td>\n",
       "      <td>small-talk-is-useless</td>\n",
       "      <td>[{\"language\":\"en\",\"isReliable\":true,\"confidenc...</td>\n",
       "      <td>[]</td>\n",
       "      <td>0.000</td>\n",
       "      <td>3</td>\n",
       "      <td>3</td>\n",
       "      <td>{\"tags\":[\"people\",\"blogs\",\"education\",\"non\",\"p...</td>\n",
       "      <td>2018-10-01 04:58:48</td>\n",
       "      <td>0.000</td>\n",
       "      <td>False</td>\n",
       "      <td>2018-10-01 04:58:48</td>\n",
       "      <td>Oct</td>\n",
       "    </tr>\n",
       "  </tbody>\n",
       "</table>\n",
       "</div>"
      ],
      "text/plain": [
       "         id      author                                  permlink  \\\n",
       "0  61753305       yurim       my-very-own-personal-photography-23   \n",
       "1  63479578    gooddeal                       20181001t000004801z   \n",
       "2  63479576  mr-freeman  utilize-customized-systems-1538352000776   \n",
       "3  63479573    steemeum                           steemeum-day-31   \n",
       "4  63434503    kingxeno                     small-talk-is-useless   \n",
       "\n",
       "                                       body_language beneficiaries  \\\n",
       "0  [{\"language\":\"ko\",\"isReliable\":true,\"confidenc...            []   \n",
       "1  [{\"language\":\"ko\",\"isReliable\":true,\"confidenc...            []   \n",
       "2  [{\"language\":\"en\",\"isReliable\":false,\"confiden...            []   \n",
       "3  [{\"language\":\"en\",\"isReliable\":true,\"confidenc...            []   \n",
       "4  [{\"language\":\"en\",\"isReliable\":true,\"confidenc...            []   \n",
       "\n",
       "   total_payout_value  net_votes  children  \\\n",
       "0               0.430          1         0   \n",
       "1               0.230          3         1   \n",
       "2               0.050          4         0   \n",
       "3               0.180         22         2   \n",
       "4               0.000          3         3   \n",
       "\n",
       "                                       json_metadata              created  \\\n",
       "0  {\"tags\":[\"kr\",\"kr-daily\",\"photography\",\"travel...  2018-10-19 21:26:42   \n",
       "1  {\"tags\":[\"kr\",\"coinkorea\",\"kr-event\",\"jjangjja...  2018-10-01 00:00:06   \n",
       "2  {\"tags\":[\"meme\",\"funny\",\"memes\",\"freeman\"],\"im...  2018-10-01 00:00:00   \n",
       "3                              {\"tags\":[\"steemeum\"]}  2018-10-01 00:00:00   \n",
       "4  {\"tags\":[\"people\",\"blogs\",\"education\",\"non\",\"p...  2018-10-01 04:58:48   \n",
       "\n",
       "   curator_payout_value  has_beneficiares          created_str month  \n",
       "0                 0.140             False  2018-10-19 21:26:42   Oct  \n",
       "1                 0.070             False  2018-10-01 00:00:06   Oct  \n",
       "2                 0.010             False  2018-10-01 00:00:00   Oct  \n",
       "3                 0.050             False  2018-10-01 00:00:00   Oct  \n",
       "4                 0.000             False  2018-10-01 04:58:48   Oct  "
      ]
     },
     "execution_count": 62,
     "metadata": {},
     "output_type": "execute_result"
    }
   ],
   "source": [
    "posts_df.head()"
   ]
  },
  {
   "cell_type": "code",
   "execution_count": 63,
   "metadata": {},
   "outputs": [
    {
     "data": {
      "text/plain": [
       "24251197.19999996"
      ]
     },
     "execution_count": 63,
     "metadata": {},
     "output_type": "execute_result"
    }
   ],
   "source": [
    "posts_df.total_payout_value.sum()"
   ]
  },
  {
   "cell_type": "markdown",
   "metadata": {},
   "source": [
    "## Benefeciares subset"
   ]
  },
  {
   "cell_type": "code",
   "execution_count": 4,
   "metadata": {},
   "outputs": [],
   "source": [
    "with_benef = posts_df.loc[posts_df.has_beneficiares != False]"
   ]
  },
  {
   "cell_type": "markdown",
   "metadata": {},
   "source": [
    "Normalize beneficiaries field into two separate fields:"
   ]
  },
  {
   "cell_type": "code",
   "execution_count": 5,
   "metadata": {},
   "outputs": [
    {
     "name": "stderr",
     "output_type": "stream",
     "text": [
      "/home/cvlt/anaconda3/lib/python3.6/site-packages/pandas/core/generic.py:4401: SettingWithCopyWarning: \n",
      "A value is trying to be set on a copy of a slice from a DataFrame.\n",
      "Try using .loc[row_indexer,col_indexer] = value instead\n",
      "\n",
      "See the caveats in the documentation: http://pandas.pydata.org/pandas-docs/stable/indexing.html#indexing-view-versus-copy\n",
      "  self[name] = value\n",
      "/home/cvlt/anaconda3/lib/python3.6/site-packages/ipykernel_launcher.py:2: SettingWithCopyWarning: \n",
      "A value is trying to be set on a copy of a slice from a DataFrame.\n",
      "Try using .loc[row_indexer,col_indexer] = value instead\n",
      "\n",
      "See the caveats in the documentation: http://pandas.pydata.org/pandas-docs/stable/indexing.html#indexing-view-versus-copy\n",
      "  \n",
      "/home/cvlt/anaconda3/lib/python3.6/site-packages/ipykernel_launcher.py:3: SettingWithCopyWarning: \n",
      "A value is trying to be set on a copy of a slice from a DataFrame.\n",
      "Try using .loc[row_indexer,col_indexer] = value instead\n",
      "\n",
      "See the caveats in the documentation: http://pandas.pydata.org/pandas-docs/stable/indexing.html#indexing-view-versus-copy\n",
      "  This is separate from the ipykernel package so we can avoid doing imports until\n"
     ]
    }
   ],
   "source": [
    "with_benef.beneficiaries = with_benef.beneficiaries.apply(lambda d: json.loads(d))\n",
    "with_benef['benef_acc'] = with_benef.beneficiaries.apply(lambda d: d[0]['account'])\n",
    "with_benef['benef_weight'] = with_benef.beneficiaries.apply(lambda d: d[0]['weight'] / 100)"
   ]
  },
  {
   "cell_type": "markdown",
   "metadata": {},
   "source": [
    "## Beneficiary percent distribution"
   ]
  },
  {
   "cell_type": "code",
   "execution_count": 76,
   "metadata": {},
   "outputs": [
    {
     "data": {
      "text/plain": [
       "Text(0.5,0,'Beneficiary percent')"
      ]
     },
     "execution_count": 76,
     "metadata": {},
     "output_type": "execute_result"
    },
    {
     "data": {
      "image/png": "[encoded data removed]",
      "text/plain": [
       "<Figure size 576x432 with 1 Axes>"
      ]
     },
     "metadata": {},
     "output_type": "display_data"
    }
   ],
   "source": [
    "import matplotlib.ticker as ticker\n",
    "\n",
    "plt.figure(figsize=(8,6))\n",
    "ax = sns.distplot(with_benef.benef_weight, kde=False)\n",
    "ax.xaxis.set_major_locator(ticker.MultipleLocator(10))\n",
    "plt.xlabel('Beneficiary percent', fontsize=14)"
   ]
  },
  {
   "cell_type": "code",
   "execution_count": 67,
   "metadata": {},
   "outputs": [
    {
     "data": {
      "text/plain": [
       "count   2734576.000\n",
       "mean         11.431\n",
       "std           6.772\n",
       "min           0.000\n",
       "25%           9.000\n",
       "50%          10.000\n",
       "75%          15.000\n",
       "max         100.000\n",
       "Name: benef_weight, dtype: float64"
      ]
     },
     "execution_count": 67,
     "metadata": {},
     "output_type": "execute_result"
    }
   ],
   "source": [
    "with_benef.benef_weight.describe()"
   ]
  },
  {
   "cell_type": "code",
   "execution_count": 6,
   "metadata": {},
   "outputs": [],
   "source": [
    "with_benef = with_benef.drop(['beneficiaries'], axis=1)"
   ]
  },
  {
   "cell_type": "code",
   "execution_count": 20,
   "metadata": {},
   "outputs": [],
   "source": [
    "with_benef = with_benef.drop(['body_language'], axis=1)"
   ]
  },
  {
   "cell_type": "markdown",
   "metadata": {},
   "source": [
    "Count author and beneficiary payouts from total_payout_value and curator_payout_value:"
   ]
  },
  {
   "cell_type": "code",
   "execution_count": 7,
   "metadata": {},
   "outputs": [],
   "source": [
    "with_benef['author_payout_value'] = with_benef.total_payout_value - with_benef.curator_payout_value\n",
    "with_benef.author_payout_value = with_benef.author_payout_value.astype('float64')\n",
    "with_benef['benef_payout_value'] = with_benef.benef_weight * with_benef.author_payout_value / 100"
   ]
  },
  {
   "cell_type": "markdown",
   "metadata": {},
   "source": [
    "## Beneficiary payouts total sum"
   ]
  },
  {
   "cell_type": "code",
   "execution_count": 47,
   "metadata": {},
   "outputs": [
    {
     "data": {
      "text/plain": [
       "401249.87771400006"
      ]
     },
     "execution_count": 47,
     "metadata": {},
     "output_type": "execute_result"
    }
   ],
   "source": [
    "with_benef.benef_payout_value.sum()"
   ]
  },
  {
   "cell_type": "code",
   "execution_count": 10,
   "metadata": {},
   "outputs": [],
   "source": [
    "with_benef.to_csv('with_benef.csv', index=False)"
   ]
  },
  {
   "cell_type": "code",
   "execution_count": 8,
   "metadata": {},
   "outputs": [],
   "source": [
    "with_benef['date'] = with_benef.created.apply(lambda d: d[:10])"
   ]
  },
  {
   "cell_type": "code",
   "execution_count": 9,
   "metadata": {},
   "outputs": [
    {
     "data": {
      "text/html": [
       "<div>\n",
       "<style scoped>\n",
       "    .dataframe tbody tr th:only-of-type {\n",
       "        vertical-align: middle;\n",
       "    }\n",
       "\n",
       "    .dataframe tbody tr th {\n",
       "        vertical-align: top;\n",
       "    }\n",
       "\n",
       "    .dataframe thead th {\n",
       "        text-align: right;\n",
       "    }\n",
       "</style>\n",
       "<table border=\"1\" class=\"dataframe\">\n",
       "  <thead>\n",
       "    <tr style=\"text-align: right;\">\n",
       "      <th></th>\n",
       "      <th>id</th>\n",
       "      <th>author</th>\n",
       "      <th>permlink</th>\n",
       "      <th>body_language</th>\n",
       "      <th>total_payout_value</th>\n",
       "      <th>net_votes</th>\n",
       "      <th>children</th>\n",
       "      <th>json_metadata</th>\n",
       "      <th>created</th>\n",
       "      <th>curator_payout_value</th>\n",
       "      <th>has_beneficiares</th>\n",
       "      <th>benef_acc</th>\n",
       "      <th>benef_weight</th>\n",
       "      <th>author_payout_value</th>\n",
       "      <th>benef_payout_value</th>\n",
       "      <th>date</th>\n",
       "    </tr>\n",
       "  </thead>\n",
       "  <tbody>\n",
       "    <tr>\n",
       "      <th>0</th>\n",
       "      <td>63479599</td>\n",
       "      <td>buffalo-goku</td>\n",
       "      <td>organictradeassociationsuestheusdaforrefusingt...</td>\n",
       "      <td>[{\"language\":\"en\",\"isReliable\":true,\"confidenc...</td>\n",
       "      <td>0.000</td>\n",
       "      <td>2</td>\n",
       "      <td>1</td>\n",
       "      <td>{\"community\":\"steempress\",\"app\":\"steempress/1....</td>\n",
       "      <td>2018-10-01 00:00:24</td>\n",
       "      <td>0.000</td>\n",
       "      <td>True</td>\n",
       "      <td>steempress</td>\n",
       "      <td>15.000</td>\n",
       "      <td>0.000</td>\n",
       "      <td>0.000</td>\n",
       "      <td>2018-10-01</td>\n",
       "    </tr>\n",
       "    <tr>\n",
       "      <th>1</th>\n",
       "      <td>63479596</td>\n",
       "      <td>earthship</td>\n",
       "      <td>an-introductuon-to-thuja-oil-da95fad2c8bef</td>\n",
       "      <td>[{\"language\":\"en\",\"isReliable\":true,\"confidenc...</td>\n",
       "      <td>0.020</td>\n",
       "      <td>1</td>\n",
       "      <td>0</td>\n",
       "      <td>{\"links\":[\"https://www.naturalnews.com/2018-09...</td>\n",
       "      <td>2018-10-01 00:00:24</td>\n",
       "      <td>0.010</td>\n",
       "      <td>True</td>\n",
       "      <td>esteemapp</td>\n",
       "      <td>10.000</td>\n",
       "      <td>0.010</td>\n",
       "      <td>0.001</td>\n",
       "      <td>2018-10-01</td>\n",
       "    </tr>\n",
       "    <tr>\n",
       "      <th>2</th>\n",
       "      <td>63479592</td>\n",
       "      <td>kravas</td>\n",
       "      <td>oh-lord-jesus-its-a-fire-zg1hbmlh-rq3xb</td>\n",
       "      <td>[{\"language\":\"en\",\"isReliable\":true,\"confidenc...</td>\n",
       "      <td>0.090</td>\n",
       "      <td>1</td>\n",
       "      <td>0</td>\n",
       "      <td>{\"tags\":[\"dmania\",\"video\",\"funny\",\"fire\",\"dman...</td>\n",
       "      <td>2018-10-01 00:00:18</td>\n",
       "      <td>0.040</td>\n",
       "      <td>True</td>\n",
       "      <td>cnts</td>\n",
       "      <td>5.000</td>\n",
       "      <td>0.050</td>\n",
       "      <td>0.003</td>\n",
       "      <td>2018-10-01</td>\n",
       "    </tr>\n",
       "    <tr>\n",
       "      <th>3</th>\n",
       "      <td>63479672</td>\n",
       "      <td>rongibsonchannel</td>\n",
       "      <td>7h4j8g90</td>\n",
       "      <td>[{\"language\":\"en\",\"isReliable\":true,\"confidenc...</td>\n",
       "      <td>0.000</td>\n",
       "      <td>2</td>\n",
       "      <td>0</td>\n",
       "      <td>{\"video\":{\"info\":{\"title\":\"ALEX JONES (2nd HOU...</td>\n",
       "      <td>2018-10-01 00:02:42</td>\n",
       "      <td>0.000</td>\n",
       "      <td>True</td>\n",
       "      <td>dtube</td>\n",
       "      <td>10.000</td>\n",
       "      <td>0.000</td>\n",
       "      <td>0.000</td>\n",
       "      <td>2018-10-01</td>\n",
       "    </tr>\n",
       "    <tr>\n",
       "      <th>4</th>\n",
       "      <td>63479673</td>\n",
       "      <td>zurichtimes</td>\n",
       "      <td>gip78wys</td>\n",
       "      <td>[{\"language\":\"en\",\"isReliable\":true,\"confidenc...</td>\n",
       "      <td>0.000</td>\n",
       "      <td>1</td>\n",
       "      <td>0</td>\n",
       "      <td>{\"video\":{\"info\":{\"title\":\"Part B SkyScraper T...</td>\n",
       "      <td>2018-10-01 00:02:45</td>\n",
       "      <td>0.000</td>\n",
       "      <td>True</td>\n",
       "      <td>dtube</td>\n",
       "      <td>10.000</td>\n",
       "      <td>0.000</td>\n",
       "      <td>0.000</td>\n",
       "      <td>2018-10-01</td>\n",
       "    </tr>\n",
       "  </tbody>\n",
       "</table>\n",
       "</div>"
      ],
      "text/plain": [
       "         id            author  \\\n",
       "0  63479599      buffalo-goku   \n",
       "1  63479596         earthship   \n",
       "2  63479592            kravas   \n",
       "3  63479672  rongibsonchannel   \n",
       "4  63479673       zurichtimes   \n",
       "\n",
       "                                            permlink  \\\n",
       "0  organictradeassociationsuestheusdaforrefusingt...   \n",
       "1         an-introductuon-to-thuja-oil-da95fad2c8bef   \n",
       "2            oh-lord-jesus-its-a-fire-zg1hbmlh-rq3xb   \n",
       "3                                           7h4j8g90   \n",
       "4                                           gip78wys   \n",
       "\n",
       "                                       body_language  total_payout_value  \\\n",
       "0  [{\"language\":\"en\",\"isReliable\":true,\"confidenc...               0.000   \n",
       "1  [{\"language\":\"en\",\"isReliable\":true,\"confidenc...               0.020   \n",
       "2  [{\"language\":\"en\",\"isReliable\":true,\"confidenc...               0.090   \n",
       "3  [{\"language\":\"en\",\"isReliable\":true,\"confidenc...               0.000   \n",
       "4  [{\"language\":\"en\",\"isReliable\":true,\"confidenc...               0.000   \n",
       "\n",
       "   net_votes  children                                      json_metadata  \\\n",
       "0          2         1  {\"community\":\"steempress\",\"app\":\"steempress/1....   \n",
       "1          1         0  {\"links\":[\"https://www.naturalnews.com/2018-09...   \n",
       "2          1         0  {\"tags\":[\"dmania\",\"video\",\"funny\",\"fire\",\"dman...   \n",
       "3          2         0  {\"video\":{\"info\":{\"title\":\"ALEX JONES (2nd HOU...   \n",
       "4          1         0  {\"video\":{\"info\":{\"title\":\"Part B SkyScraper T...   \n",
       "\n",
       "               created  curator_payout_value  has_beneficiares   benef_acc  \\\n",
       "0  2018-10-01 00:00:24                 0.000              True  steempress   \n",
       "1  2018-10-01 00:00:24                 0.010              True   esteemapp   \n",
       "2  2018-10-01 00:00:18                 0.040              True        cnts   \n",
       "3  2018-10-01 00:02:42                 0.000              True       dtube   \n",
       "4  2018-10-01 00:02:45                 0.000              True       dtube   \n",
       "\n",
       "   benef_weight  author_payout_value  benef_payout_value        date  \n",
       "0        15.000                0.000               0.000  2018-10-01  \n",
       "1        10.000                0.010               0.001  2018-10-01  \n",
       "2         5.000                0.050               0.003  2018-10-01  \n",
       "3        10.000                0.000               0.000  2018-10-01  \n",
       "4        10.000                0.000               0.000  2018-10-01  "
      ]
     },
     "execution_count": 9,
     "metadata": {},
     "output_type": "execute_result"
    }
   ],
   "source": [
    "with_benef.head()"
   ]
  },
  {
   "cell_type": "code",
   "execution_count": 10,
   "metadata": {},
   "outputs": [],
   "source": [
    "with_benef_dates = with_benef.groupby('date').benef_payout_value.sum().reset_index()"
   ]
  },
  {
   "cell_type": "code",
   "execution_count": 20,
   "metadata": {},
   "outputs": [
    {
     "data": {
      "image/png": "[encoded data removed]",
      "text/plain": [
       "<Figure size 864x432 with 1 Axes>"
      ]
     },
     "metadata": {},
     "output_type": "display_data"
    }
   ],
   "source": [
    "plt.figure(figsize=(12,6))\n",
    "\n",
    "ax = sns.lineplot(x='date', y='benef_payout_value', data=with_benef_dates)\n",
    "\n",
    "ax.xaxis.set_major_locator(ticker.MultipleLocator(40))\n",
    "plt.ylabel('Beneficiary payouts sum', fontsize=16)\n",
    "plt.xlabel('', fontsize=16)\n",
    "plt.tick_params(axis='both', which='major', labelsize=12)\n",
    "plt.show()"
   ]
  },
  {
   "cell_type": "markdown",
   "metadata": {},
   "source": [
    "# Count stats"
   ]
  },
  {
   "cell_type": "code",
   "execution_count": 37,
   "metadata": {},
   "outputs": [
    {
     "data": {
      "text/plain": [
       "1591"
      ]
     },
     "execution_count": 37,
     "metadata": {},
     "output_type": "execute_result"
    }
   ],
   "source": [
    "len(with_benef.benef_acc.unique())"
   ]
  },
  {
   "cell_type": "code",
   "execution_count": 11,
   "metadata": {},
   "outputs": [],
   "source": [
    "benef_post_count = with_benef.groupby('benef_acc').id.count().reset_index().sort_values('id', ascending=False).rename(columns={'id': 'post_count'})"
   ]
  },
  {
   "cell_type": "code",
   "execution_count": 12,
   "metadata": {},
   "outputs": [],
   "source": [
    "benef_author_count = with_benef.groupby('benef_acc').author.nunique().reset_index().sort_values('author', ascending=False).rename(columns={'author': 'author_count'})"
   ]
  },
  {
   "cell_type": "code",
   "execution_count": 13,
   "metadata": {},
   "outputs": [],
   "source": [
    "benef_total_pay_sum = with_benef.groupby('benef_acc').total_payout_value.sum().reset_index().sort_values('total_payout_value', ascending=False).rename(columns={'total_payout_value': 'total_payout_sum'})"
   ]
  },
  {
   "cell_type": "markdown",
   "metadata": {},
   "source": [
    "## Beneficiary payout sum"
   ]
  },
  {
   "cell_type": "code",
   "execution_count": 14,
   "metadata": {},
   "outputs": [],
   "source": [
    "benef_pay_sum = with_benef.groupby('benef_acc').benef_payout_value.sum().reset_index().sort_values('benef_payout_value', ascending=False).rename(columns={'benef_payout_value': 'benef_payout_sum'})"
   ]
  },
  {
   "cell_type": "code",
   "execution_count": 15,
   "metadata": {},
   "outputs": [
    {
     "data": {
      "text/html": [
       "<div>\n",
       "<style scoped>\n",
       "    .dataframe tbody tr th:only-of-type {\n",
       "        vertical-align: middle;\n",
       "    }\n",
       "\n",
       "    .dataframe tbody tr th {\n",
       "        vertical-align: top;\n",
       "    }\n",
       "\n",
       "    .dataframe thead th {\n",
       "        text-align: right;\n",
       "    }\n",
       "</style>\n",
       "<table border=\"1\" class=\"dataframe\">\n",
       "  <thead>\n",
       "    <tr style=\"text-align: right;\">\n",
       "      <th></th>\n",
       "      <th>benef_acc</th>\n",
       "      <th>author_count</th>\n",
       "    </tr>\n",
       "  </thead>\n",
       "  <tbody>\n",
       "    <tr>\n",
       "      <th>776</th>\n",
       "      <td>esteemapp</td>\n",
       "      <td>46956</td>\n",
       "    </tr>\n",
       "    <tr>\n",
       "      <th>716</th>\n",
       "      <td>dtube</td>\n",
       "      <td>39349</td>\n",
       "    </tr>\n",
       "    <tr>\n",
       "      <th>1511</th>\n",
       "      <td>steepshot</td>\n",
       "      <td>17333</td>\n",
       "    </tr>\n",
       "    <tr>\n",
       "      <th>690</th>\n",
       "      <td>dmania</td>\n",
       "      <td>11639</td>\n",
       "    </tr>\n",
       "    <tr>\n",
       "      <th>517</th>\n",
       "      <td>cnts</td>\n",
       "      <td>10043</td>\n",
       "    </tr>\n",
       "  </tbody>\n",
       "</table>\n",
       "</div>"
      ],
      "text/plain": [
       "      benef_acc  author_count\n",
       "776   esteemapp         46956\n",
       "716       dtube         39349\n",
       "1511  steepshot         17333\n",
       "690      dmania         11639\n",
       "517        cnts         10043"
      ]
     },
     "execution_count": 15,
     "metadata": {},
     "output_type": "execute_result"
    }
   ],
   "source": [
    "benef_author_count.head()"
   ]
  },
  {
   "cell_type": "code",
   "execution_count": 16,
   "metadata": {},
   "outputs": [
    {
     "data": {
      "application/vnd.jupyter.widget-view+json": {
       "model_id": "57289252cc614bbeb9a26a9b16933a77",
       "version_major": 2,
       "version_minor": 0
      },
      "text/plain": [
       "HBox(children=(IntProgress(value=0, max=1591), HTML(value='')))"
      ]
     },
     "metadata": {},
     "output_type": "display_data"
    },
    {
     "name": "stdout",
     "output_type": "stream",
     "text": [
      "\n"
     ]
    }
   ],
   "source": [
    "# benef_post_count = benef_post_count.set_index('benef_acc')\n",
    "#benef_pay_sum = benef_pay_sum.set_index('benef_acc')\n",
    "# benef_author_count = benef_author_count.set_index('benef_acc')\n",
    "\n",
    "for acc in tqdm_notebook(benef_post_count.index.values):\n",
    "    benef_post_count.loc[acc, 'benef_pay_sum'] = benef_pay_sum.loc[acc].benef_payout_sum\n",
    "    benef_post_count.loc[acc, 'author_count'] = benef_author_count.loc[acc].author_count"
   ]
  },
  {
   "cell_type": "code",
   "execution_count": 17,
   "metadata": {},
   "outputs": [],
   "source": [
    "benef_post_count = benef_post_count.reset_index()"
   ]
  },
  {
   "cell_type": "code",
   "execution_count": 18,
   "metadata": {},
   "outputs": [
    {
     "data": {
      "text/plain": [
       "(36, 5)"
      ]
     },
     "execution_count": 18,
     "metadata": {},
     "output_type": "execute_result"
    }
   ],
   "source": [
    "benef_post_count.loc[benef_post_count.benef_pay_sum > 100].shape"
   ]
  },
  {
   "cell_type": "markdown",
   "metadata": {},
   "source": [
    "## Top beneficiaries"
   ]
  },
  {
   "cell_type": "code",
   "execution_count": 19,
   "metadata": {},
   "outputs": [],
   "source": [
    "valuable = benef_post_count.iloc[:10]"
   ]
  },
  {
   "cell_type": "code",
   "execution_count": 44,
   "metadata": {},
   "outputs": [
    {
     "data": {
      "image/png": "[encoded data removed]",
      "text/plain": [
       "<Figure size 864x432 with 1 Axes>"
      ]
     },
     "metadata": {},
     "output_type": "display_data"
    }
   ],
   "source": [
    "plt.figure(figsize=(12,6))\n",
    "\n",
    "# sns.set(font_scale = 1.1)\n",
    "valuable = valuable.sort_values('benef_pay_sum', ascending=False)\n",
    "\n",
    "sns.barplot(x='benef_acc', \n",
    "            y='benef_pay_sum', \n",
    "            data=valuable, \n",
    "            order=valuable.benef_acc, \n",
    "            color='#f7a4cfff')\n",
    "sns.set_style(\"ticks\", {\"xtick.major.size\": 10, \"ytick.minor.size\": 14})\n",
    "plt.ylabel('Beneficiary payouts sum', fontsize=16)\n",
    "plt.xlabel('', fontsize=16)\n",
    "plt.tick_params(axis='both', which='major', labelsize=12)"
   ]
  },
  {
   "cell_type": "markdown",
   "metadata": {},
   "source": [
    "Check values with another table"
   ]
  },
  {
   "cell_type": "code",
   "execution_count": 4,
   "metadata": {},
   "outputs": [],
   "source": [
    "query = '''\n",
    "    SELECT SUM(vesting_payout)\n",
    "    FROM VOCommentBenefactorRewards\n",
    "    WHERE benefactor = 'dtube'\n",
    "    '''\n",
    "cursor.execute(query)\n",
    "data = cursor.fetchall()"
   ]
  },
  {
   "cell_type": "code",
   "execution_count": 14,
   "metadata": {},
   "outputs": [],
   "source": [
    "from steem.converter import Converter\n",
    "c = Converter()"
   ]
  },
  {
   "cell_type": "code",
   "execution_count": 16,
   "metadata": {},
   "outputs": [
    {
     "data": {
      "text/plain": [
       "168287.12516770203"
      ]
     },
     "execution_count": 16,
     "metadata": {},
     "output_type": "execute_result"
    }
   ],
   "source": [
    "c.vests_to_sp(float(data[0][0]))"
   ]
  },
  {
   "cell_type": "markdown",
   "metadata": {},
   "source": [
    "75% of beneficiaries received less than 283 SBD"
   ]
  },
  {
   "cell_type": "code",
   "execution_count": 56,
   "metadata": {},
   "outputs": [
    {
     "data": {
      "text/plain": [
       "count       94.000\n",
       "mean      4273.069\n",
       "std      19464.094\n",
       "min         10.242\n",
       "25%         18.119\n",
       "50%         49.164\n",
       "75%        283.864\n",
       "max     163810.365\n",
       "Name: benef_pay_sum, dtype: float64"
      ]
     },
     "execution_count": 56,
     "metadata": {},
     "output_type": "execute_result"
    }
   ],
   "source": [
    "benef_post_count.loc[benef_post_count.benef_pay_sum > 10].benef_pay_sum.describe()"
   ]
  },
  {
   "cell_type": "code",
   "execution_count": 27,
   "metadata": {},
   "outputs": [
    {
     "data": {
      "text/html": [
       "<div>\n",
       "<style scoped>\n",
       "    .dataframe tbody tr th:only-of-type {\n",
       "        vertical-align: middle;\n",
       "    }\n",
       "\n",
       "    .dataframe tbody tr th {\n",
       "        vertical-align: top;\n",
       "    }\n",
       "\n",
       "    .dataframe thead th {\n",
       "        text-align: right;\n",
       "    }\n",
       "</style>\n",
       "<table border=\"1\" class=\"dataframe\">\n",
       "  <thead>\n",
       "    <tr style=\"text-align: right;\">\n",
       "      <th></th>\n",
       "      <th>index</th>\n",
       "      <th>benef_acc</th>\n",
       "      <th>post_count</th>\n",
       "      <th>benef_pay_sum</th>\n",
       "      <th>author_count</th>\n",
       "    </tr>\n",
       "  </thead>\n",
       "  <tbody>\n",
       "    <tr>\n",
       "      <th>2</th>\n",
       "      <td>716</td>\n",
       "      <td>dtube</td>\n",
       "      <td>306093</td>\n",
       "      <td>163810.365</td>\n",
       "      <td>39349.000</td>\n",
       "    </tr>\n",
       "    <tr>\n",
       "      <th>9</th>\n",
       "      <td>1555</td>\n",
       "      <td>utopian.pay</td>\n",
       "      <td>43717</td>\n",
       "      <td>69433.495</td>\n",
       "      <td>4217.000</td>\n",
       "    </tr>\n",
       "    <tr>\n",
       "      <th>8</th>\n",
       "      <td>715</td>\n",
       "      <td>dsound</td>\n",
       "      <td>56037</td>\n",
       "      <td>51158.412</td>\n",
       "      <td>5693.000</td>\n",
       "    </tr>\n",
       "    <tr>\n",
       "      <th>0</th>\n",
       "      <td>776</td>\n",
       "      <td>esteemapp</td>\n",
       "      <td>1067903</td>\n",
       "      <td>42972.751</td>\n",
       "      <td>46956.000</td>\n",
       "    </tr>\n",
       "    <tr>\n",
       "      <th>1</th>\n",
       "      <td>1511</td>\n",
       "      <td>steepshot</td>\n",
       "      <td>341010</td>\n",
       "      <td>24850.409</td>\n",
       "      <td>17333.000</td>\n",
       "    </tr>\n",
       "  </tbody>\n",
       "</table>\n",
       "</div>"
      ],
      "text/plain": [
       "   index    benef_acc  post_count  benef_pay_sum  author_count\n",
       "2    716        dtube      306093     163810.365     39349.000\n",
       "9   1555  utopian.pay       43717      69433.495      4217.000\n",
       "8    715       dsound       56037      51158.412      5693.000\n",
       "0    776    esteemapp     1067903      42972.751     46956.000\n",
       "1   1511    steepshot      341010      24850.409     17333.000"
      ]
     },
     "execution_count": 27,
     "metadata": {},
     "output_type": "execute_result"
    }
   ],
   "source": [
    "top_5 = benef_post_count.sort_values('benef_pay_sum', ascending=False).iloc[:5]\n",
    "other = benef_post_count.sort_values('benef_pay_sum', ascending=False).iloc[5:]\n",
    "other = other.loc[other.benef_pay_sum > 0]\n",
    "top_5"
   ]
  },
  {
   "cell_type": "code",
   "execution_count": 45,
   "metadata": {},
   "outputs": [
    {
     "data": {
      "image/png": "[encoded data removed]",
      "text/plain": [
       "<Figure size 720x432 with 1 Axes>"
      ]
     },
     "metadata": {},
     "output_type": "display_data"
    }
   ],
   "source": [
    "draw_donut(\n",
    "    list(top_5.benef_acc.values) + ['Other'], \n",
    "    list(top_5.benef_pay_sum) + [other.benef_pay_sum.sum()],\n",
    "    '',\n",
    "    ['#B0B8A0', '#EBC086', '#D4C3A9', '#ECB2B0', '#CED5D5', '#F8C9AD', '#88ACB2', '#D37A81']\n",
    ")"
   ]
  },
  {
   "cell_type": "markdown",
   "metadata": {},
   "source": [
    "# Count ratios"
   ]
  },
  {
   "cell_type": "code",
   "execution_count": 21,
   "metadata": {},
   "outputs": [],
   "source": [
    "with_benef_count = posts_df.loc[posts_df.beneficiaries != '[]'].shape[0]"
   ]
  },
  {
   "cell_type": "code",
   "execution_count": 19,
   "metadata": {},
   "outputs": [],
   "source": [
    "without_benef_count = posts_df.loc[posts_df.beneficiaries == '[]'].shape[0]"
   ]
  },
  {
   "cell_type": "code",
   "execution_count": 22,
   "metadata": {},
   "outputs": [
    {
     "data": {
      "text/plain": [
       "2734576"
      ]
     },
     "execution_count": 22,
     "metadata": {},
     "output_type": "execute_result"
    }
   ],
   "source": [
    "with_benef_count"
   ]
  },
  {
   "cell_type": "code",
   "execution_count": 48,
   "metadata": {},
   "outputs": [
    {
     "data": {
      "image/png": "[encoded data removed]",
      "text/plain": [
       "<Figure size 720x432 with 1 Axes>"
      ]
     },
     "metadata": {},
     "output_type": "display_data"
    }
   ],
   "source": [
    "draw_donut(\n",
    "    ['Posts with \\nbeneficiaries', 'Posts without \\nbeneficiaries'], \n",
    "    [with_benef_count, without_benef_count],\n",
    "    '',#'Posts count ratio',\n",
    "    ['#F86F7B', '#CED5D5']\n",
    ")"
   ]
  },
  {
   "cell_type": "code",
   "execution_count": 49,
   "metadata": {},
   "outputs": [],
   "source": [
    "with_benef_pay_sum = posts_df.loc[posts_df.beneficiaries != '[]'].total_payout_value.sum()"
   ]
  },
  {
   "cell_type": "code",
   "execution_count": 56,
   "metadata": {},
   "outputs": [
    {
     "data": {
      "text/plain": [
       "count   2734576.000\n",
       "mean          1.364\n",
       "std           7.716\n",
       "min           0.000\n",
       "25%           0.000\n",
       "50%           0.030\n",
       "75%           0.440\n",
       "max         982.110\n",
       "Name: total_payout_value, dtype: float64"
      ]
     },
     "execution_count": 56,
     "metadata": {},
     "output_type": "execute_result"
    }
   ],
   "source": [
    "posts_df.loc[posts_df.beneficiaries != '[]'].total_payout_value.describe()"
   ]
  },
  {
   "cell_type": "code",
   "execution_count": 50,
   "metadata": {},
   "outputs": [],
   "source": [
    "without_benef_pay_sum = posts_df.loc[posts_df.beneficiaries == '[]'].total_payout_value.sum()"
   ]
  },
  {
   "cell_type": "code",
   "execution_count": 57,
   "metadata": {},
   "outputs": [
    {
     "data": {
      "text/plain": [
       "count   6936438.000\n",
       "mean          2.959\n",
       "std          14.637\n",
       "min           0.000\n",
       "25%           0.000\n",
       "50%           0.060\n",
       "75%           0.830\n",
       "max        1967.320\n",
       "Name: total_payout_value, dtype: float64"
      ]
     },
     "execution_count": 57,
     "metadata": {},
     "output_type": "execute_result"
    }
   ],
   "source": [
    "posts_df.loc[posts_df.beneficiaries == '[]'].total_payout_value.describe()"
   ]
  },
  {
   "cell_type": "code",
   "execution_count": 53,
   "metadata": {},
   "outputs": [
    {
     "data": {
      "text/plain": [
       "3728646.8699999982"
      ]
     },
     "execution_count": 53,
     "metadata": {},
     "output_type": "execute_result"
    }
   ],
   "source": [
    "with_benef_pay_sum"
   ]
  },
  {
   "cell_type": "code",
   "execution_count": 52,
   "metadata": {},
   "outputs": [
    {
     "data": {
      "image/png": "[encoded data removed]",
      "text/plain": [
       "<Figure size 720x432 with 1 Axes>"
      ]
     },
     "metadata": {},
     "output_type": "display_data"
    }
   ],
   "source": [
    "draw_donut(\n",
    "    ['Posts with \\nbeneficiaries', 'Posts without \\nbeneficiaries'], \n",
    "    [with_benef_pay_sum, without_benef_pay_sum],\n",
    "    '', #'Posts with/without benefitiares payout sum ratio',\n",
    "    ['#F86F7B', '#CED5D5']\n",
    ")"
   ]
  },
  {
   "cell_type": "code",
   "execution_count": 50,
   "metadata": {},
   "outputs": [
    {
     "data": {
      "text/plain": [
       "1597009"
      ]
     },
     "execution_count": 50,
     "metadata": {},
     "output_type": "execute_result"
    }
   ],
   "source": [
    "months = ['Oct', 'Sep', 'Aug']\n",
    "three_months = posts_df.loc[posts_df.month.isin(months)]\n",
    "three_months.shape[0]"
   ]
  },
  {
   "cell_type": "code",
   "execution_count": 51,
   "metadata": {},
   "outputs": [
    {
     "name": "stderr",
     "output_type": "stream",
     "text": [
      "/home/cvlt/anaconda3/lib/python3.6/site-packages/pandas/core/generic.py:4401: SettingWithCopyWarning: \n",
      "A value is trying to be set on a copy of a slice from a DataFrame.\n",
      "Try using .loc[row_indexer,col_indexer] = value instead\n",
      "\n",
      "See the caveats in the documentation: http://pandas.pydata.org/pandas-docs/stable/indexing.html#indexing-view-versus-copy\n",
      "  self[name] = value\n"
     ]
    }
   ],
   "source": [
    "three_months.total_payout_value = three_months.total_payout_value.astype('float64')"
   ]
  },
  {
   "cell_type": "code",
   "execution_count": 122,
   "metadata": {},
   "outputs": [
    {
     "name": "stderr",
     "output_type": "stream",
     "text": [
      "/home/cvlt/anaconda3/lib/python3.6/site-packages/ipykernel_launcher.py:1: SettingWithCopyWarning:\n",
      "\n",
      "\n",
      "A value is trying to be set on a copy of a slice from a DataFrame.\n",
      "Try using .loc[row_indexer,col_indexer] = value instead\n",
      "\n",
      "See the caveats in the documentation: http://pandas.pydata.org/pandas-docs/stable/indexing.html#indexing-view-versus-copy\n",
      "\n"
     ]
    }
   ],
   "source": [
    "three_months['total_payout_value_log'] = three_months.total_payout_value.apply(lambda p: np.log(p))"
   ]
  },
  {
   "cell_type": "code",
   "execution_count": 63,
   "metadata": {},
   "outputs": [
    {
     "data": {
      "text/html": [
       "<div>\n",
       "<style scoped>\n",
       "    .dataframe tbody tr th:only-of-type {\n",
       "        vertical-align: middle;\n",
       "    }\n",
       "\n",
       "    .dataframe tbody tr th {\n",
       "        vertical-align: top;\n",
       "    }\n",
       "\n",
       "    .dataframe thead th {\n",
       "        text-align: right;\n",
       "    }\n",
       "</style>\n",
       "<table border=\"1\" class=\"dataframe\">\n",
       "  <thead>\n",
       "    <tr style=\"text-align: right;\">\n",
       "      <th></th>\n",
       "      <th>id</th>\n",
       "      <th>author</th>\n",
       "      <th>permlink</th>\n",
       "      <th>body_language</th>\n",
       "      <th>beneficiaries</th>\n",
       "      <th>total_payout_value</th>\n",
       "      <th>net_votes</th>\n",
       "      <th>children</th>\n",
       "      <th>json_metadata</th>\n",
       "      <th>created</th>\n",
       "      <th>curator_payout_value</th>\n",
       "      <th>has_beneficiares</th>\n",
       "      <th>created_str</th>\n",
       "      <th>month</th>\n",
       "      <th>total_payout_value_log</th>\n",
       "    </tr>\n",
       "  </thead>\n",
       "  <tbody>\n",
       "    <tr>\n",
       "      <th>0</th>\n",
       "      <td>61753305</td>\n",
       "      <td>yurim</td>\n",
       "      <td>my-very-own-personal-photography-23</td>\n",
       "      <td>[{\"language\":\"ko\",\"isReliable\":true,\"confidenc...</td>\n",
       "      <td>[]</td>\n",
       "      <td>0.43</td>\n",
       "      <td>1</td>\n",
       "      <td>0</td>\n",
       "      <td>{\"tags\":[\"kr\",\"kr-daily\",\"photography\",\"travel...</td>\n",
       "      <td>2018-10-19 21:26:42</td>\n",
       "      <td>0.14</td>\n",
       "      <td>False</td>\n",
       "      <td>2018-10-19 21:26:42</td>\n",
       "      <td>Oct</td>\n",
       "      <td>-0.843970</td>\n",
       "    </tr>\n",
       "    <tr>\n",
       "      <th>1</th>\n",
       "      <td>63479578</td>\n",
       "      <td>gooddeal</td>\n",
       "      <td>20181001t000004801z</td>\n",
       "      <td>[{\"language\":\"ko\",\"isReliable\":true,\"confidenc...</td>\n",
       "      <td>[]</td>\n",
       "      <td>0.23</td>\n",
       "      <td>3</td>\n",
       "      <td>1</td>\n",
       "      <td>{\"tags\":[\"kr\",\"coinkorea\",\"kr-event\",\"jjangjja...</td>\n",
       "      <td>2018-10-01 00:00:06</td>\n",
       "      <td>0.07</td>\n",
       "      <td>False</td>\n",
       "      <td>2018-10-01 00:00:06</td>\n",
       "      <td>Oct</td>\n",
       "      <td>-1.469676</td>\n",
       "    </tr>\n",
       "    <tr>\n",
       "      <th>2</th>\n",
       "      <td>63479576</td>\n",
       "      <td>mr-freeman</td>\n",
       "      <td>utilize-customized-systems-1538352000776</td>\n",
       "      <td>[{\"language\":\"en\",\"isReliable\":false,\"confiden...</td>\n",
       "      <td>[]</td>\n",
       "      <td>0.05</td>\n",
       "      <td>4</td>\n",
       "      <td>0</td>\n",
       "      <td>{\"tags\":[\"meme\",\"funny\",\"memes\",\"freeman\"],\"im...</td>\n",
       "      <td>2018-10-01 00:00:00</td>\n",
       "      <td>0.01</td>\n",
       "      <td>False</td>\n",
       "      <td>2018-10-01 00:00:00</td>\n",
       "      <td>Oct</td>\n",
       "      <td>-2.995732</td>\n",
       "    </tr>\n",
       "    <tr>\n",
       "      <th>3</th>\n",
       "      <td>63479573</td>\n",
       "      <td>steemeum</td>\n",
       "      <td>steemeum-day-31</td>\n",
       "      <td>[{\"language\":\"en\",\"isReliable\":true,\"confidenc...</td>\n",
       "      <td>[]</td>\n",
       "      <td>0.18</td>\n",
       "      <td>22</td>\n",
       "      <td>2</td>\n",
       "      <td>{\"tags\":[\"steemeum\"]}</td>\n",
       "      <td>2018-10-01 00:00:00</td>\n",
       "      <td>0.05</td>\n",
       "      <td>False</td>\n",
       "      <td>2018-10-01 00:00:00</td>\n",
       "      <td>Oct</td>\n",
       "      <td>-1.714798</td>\n",
       "    </tr>\n",
       "    <tr>\n",
       "      <th>4</th>\n",
       "      <td>63434503</td>\n",
       "      <td>kingxeno</td>\n",
       "      <td>small-talk-is-useless</td>\n",
       "      <td>[{\"language\":\"en\",\"isReliable\":true,\"confidenc...</td>\n",
       "      <td>[]</td>\n",
       "      <td>0.00</td>\n",
       "      <td>3</td>\n",
       "      <td>3</td>\n",
       "      <td>{\"tags\":[\"people\",\"blogs\",\"education\",\"non\",\"p...</td>\n",
       "      <td>2018-10-01 04:58:48</td>\n",
       "      <td>0.00</td>\n",
       "      <td>False</td>\n",
       "      <td>2018-10-01 04:58:48</td>\n",
       "      <td>Oct</td>\n",
       "      <td>-inf</td>\n",
       "    </tr>\n",
       "  </tbody>\n",
       "</table>\n",
       "</div>"
      ],
      "text/plain": [
       "         id      author                                  permlink  \\\n",
       "0  61753305       yurim       my-very-own-personal-photography-23   \n",
       "1  63479578    gooddeal                       20181001t000004801z   \n",
       "2  63479576  mr-freeman  utilize-customized-systems-1538352000776   \n",
       "3  63479573    steemeum                           steemeum-day-31   \n",
       "4  63434503    kingxeno                     small-talk-is-useless   \n",
       "\n",
       "                                       body_language beneficiaries  \\\n",
       "0  [{\"language\":\"ko\",\"isReliable\":true,\"confidenc...            []   \n",
       "1  [{\"language\":\"ko\",\"isReliable\":true,\"confidenc...            []   \n",
       "2  [{\"language\":\"en\",\"isReliable\":false,\"confiden...            []   \n",
       "3  [{\"language\":\"en\",\"isReliable\":true,\"confidenc...            []   \n",
       "4  [{\"language\":\"en\",\"isReliable\":true,\"confidenc...            []   \n",
       "\n",
       "   total_payout_value  net_votes  children  \\\n",
       "0                0.43          1         0   \n",
       "1                0.23          3         1   \n",
       "2                0.05          4         0   \n",
       "3                0.18         22         2   \n",
       "4                0.00          3         3   \n",
       "\n",
       "                                       json_metadata             created  \\\n",
       "0  {\"tags\":[\"kr\",\"kr-daily\",\"photography\",\"travel... 2018-10-19 21:26:42   \n",
       "1  {\"tags\":[\"kr\",\"coinkorea\",\"kr-event\",\"jjangjja... 2018-10-01 00:00:06   \n",
       "2  {\"tags\":[\"meme\",\"funny\",\"memes\",\"freeman\"],\"im... 2018-10-01 00:00:00   \n",
       "3                              {\"tags\":[\"steemeum\"]} 2018-10-01 00:00:00   \n",
       "4  {\"tags\":[\"people\",\"blogs\",\"education\",\"non\",\"p... 2018-10-01 04:58:48   \n",
       "\n",
       "  curator_payout_value  has_beneficiares          created_str month  \\\n",
       "0                 0.14             False  2018-10-19 21:26:42   Oct   \n",
       "1                 0.07             False  2018-10-01 00:00:06   Oct   \n",
       "2                 0.01             False  2018-10-01 00:00:00   Oct   \n",
       "3                 0.05             False  2018-10-01 00:00:00   Oct   \n",
       "4                 0.00             False  2018-10-01 04:58:48   Oct   \n",
       "\n",
       "   total_payout_value_log  \n",
       "0               -0.843970  \n",
       "1               -1.469676  \n",
       "2               -2.995732  \n",
       "3               -1.714798  \n",
       "4                    -inf  "
      ]
     },
     "execution_count": 63,
     "metadata": {},
     "output_type": "execute_result"
    }
   ],
   "source": [
    "three_months.head()"
   ]
  },
  {
   "cell_type": "code",
   "execution_count": 53,
   "metadata": {},
   "outputs": [
    {
     "data": {
      "image/png": "[encoded data removed]",
      "text/plain": [
       "<Figure size 1152x648 with 1 Axes>"
      ]
     },
     "metadata": {},
     "output_type": "display_data"
    }
   ],
   "source": [
    "plt.figure(figsize=(16,9))\n",
    "sns.boxplot(x=\"month\", y=\"total_payout_value\", hue=\"has_beneficiares\", data=three_months, palette=\"Set3\")\n",
    "plt.xlabel('')\n",
    "plt.ylabel('Total payout value', fontsize=14)\n",
    "plt.show()"
   ]
  },
  {
   "cell_type": "code",
   "execution_count": 124,
   "metadata": {},
   "outputs": [
    {
     "data": {
      "image/png": "[encoded data removed]",
      "text/plain": [
       "<Figure size 1152x648 with 1 Axes>"
      ]
     },
     "metadata": {},
     "output_type": "display_data"
    }
   ],
   "source": [
    "plt.figure(figsize=(16,9))\n",
    "sns.boxplot(x=\"month\", \n",
    "            y=\"total_payout_value_log\", \n",
    "            hue=\"has_beneficiares\", \n",
    "            data=three_months.loc[three_months.total_payout_value_log != float('-inf')], \n",
    "            palette=\"Set3\")\n",
    "plt.show()"
   ]
  },
  {
   "cell_type": "markdown",
   "metadata": {},
   "source": [
    "# Suplementary methods"
   ]
  },
  {
   "cell_type": "code",
   "execution_count": null,
   "metadata": {},
   "outputs": [],
   "source": [
    "def draw_donut(labels, sizes, title, colors=None):\n",
    "    if colors == None:\n",
    "        colors = ['#C2A0BA', '#F86F7B', '#90C1B5', '#DED780']\n",
    "\n",
    "    plt.figure(figsize=(10,6))\n",
    "    patches, texts, some = plt.pie(sizes, colors=colors, autopct='%1.1f%%', textprops={'fontsize': 13})\n",
    "    \n",
    "    \n",
    "    centre_circle = plt.Circle((0,0), 0.75, fc='white',linewidth=1.25)\n",
    "    fig = plt.gcf()\n",
    "    fig.gca().add_artist(centre_circle)\n",
    "\n",
    "    plt.legend(patches, labels, loc=\"best\", fontsize=14)\n",
    "    plt.title(title, fontsize=22)\n",
    "    plt.axis('equal')\n",
    "    plt.show()"
   ]
  }
 ],
 "metadata": {
  "kernelspec": {
   "display_name": "Python 3",
   "language": "python",
   "name": "python3"
  },
  "language_info": {
   "codemirror_mode": {
    "name": "ipython",
    "version": 3
   },
   "file_extension": ".py",
   "mimetype": "text/x-python",
   "name": "python",
   "nbconvert_exporter": "python",
   "pygments_lexer": "ipython3",
   "version": "3.6.5"
  }
 },
 "nbformat": 4,
 "nbformat_minor": 2
}
